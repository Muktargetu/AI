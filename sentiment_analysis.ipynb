{
  "nbformat": 4,
  "nbformat_minor": 0,
  "metadata": {
    "colab": {
      "provenance": [],
      "authorship_tag": "ABX9TyPrYObp4tXM2M7wahjDP4v1",
      "include_colab_link": true
    },
    "kernelspec": {
      "name": "python3",
      "display_name": "Python 3"
    },
    "language_info": {
      "name": "python"
    }
  },
  "cells": [
    {
      "cell_type": "markdown",
      "metadata": {
        "id": "view-in-github",
        "colab_type": "text"
      },
      "source": [
        "<a href=\"https://colab.research.google.com/github/Muktargetu/AI/blob/main/sentiment_analysis.ipynb\" target=\"_parent\"><img src=\"https://colab.research.google.com/assets/colab-badge.svg\" alt=\"Open In Colab\"/></a>"
      ]
    },
    {
      "cell_type": "code",
      "execution_count": null,
      "metadata": {
        "id": "Wudc-lB42l5k"
      },
      "outputs": [],
      "source": [
        "from keras.preprocessing import sequence\n",
        "from keras.models import Sequential\n",
        "from keras.layers import Dense, Embedding\n",
        "from keras.layers import LSTM\n",
        "from keras.datasets import imdb\n"
      ]
    },
    {
      "cell_type": "code",
      "source": [
        "(x_train, y_train), (x_test, y_test) = imdb.load_data(num_words=2000)"
      ],
      "metadata": {
        "colab": {
          "base_uri": "https://localhost:8080/"
        },
        "id": "XHV_eeP62tZ5",
        "outputId": "26b82bc1-41a6-49c4-90e8-688b010b7404"
      },
      "execution_count": null,
      "outputs": [
        {
          "output_type": "stream",
          "name": "stdout",
          "text": [
            "Downloading data from https://storage.googleapis.com/tensorflow/tf-keras-datasets/imdb.npz\n",
            "17464789/17464789 [==============================] - 0s 0us/step\n"
          ]
        }
      ]
    },
    {
      "cell_type": "code",
      "source": [
        "x_train = sequence.pad_sequences(x_train, maxlen=150)"
      ],
      "metadata": {
        "id": "auJA2lDA29fw"
      },
      "execution_count": null,
      "outputs": []
    },
    {
      "cell_type": "code",
      "source": [
        "x_test = sequence.pad_sequences(x_test, maxlen=150)"
      ],
      "metadata": {
        "id": "HH8jlGB63D3f"
      },
      "execution_count": null,
      "outputs": []
    },
    {
      "cell_type": "code",
      "source": [
        "model = Sequential()\n",
        "model.add(Embedding(2000, 128))\n",
        "model.add(LSTM(128, dropout=0.2, recurrent_dropout=0.2))\n",
        "model.add(Dense(1, activation='sigmoid'))\n"
      ],
      "metadata": {
        "id": "D2dw9H6u3HGf"
      },
      "execution_count": null,
      "outputs": []
    },
    {
      "cell_type": "code",
      "source": [
        "model.compile(loss='binary_crossentropy', optimizer='adam', metrics=['accuracy'])"
      ],
      "metadata": {
        "id": "D5gBY7ph3L_C"
      },
      "execution_count": null,
      "outputs": []
    },
    {
      "cell_type": "code",
      "source": [
        "model.fit(x_train, y_train, batch_size=32, epochs=15, validation_data=(x_test, y_test))"
      ],
      "metadata": {
        "colab": {
          "base_uri": "https://localhost:8080/"
        },
        "id": "v914MxPo3P5p",
        "outputId": "768cbebc-eacf-4b50-e3c9-2a528150e894"
      },
      "execution_count": null,
      "outputs": [
        {
          "output_type": "stream",
          "name": "stdout",
          "text": [
            "Epoch 1/15\n",
            "782/782 [==============================] - 239s 301ms/step - loss: 0.4521 - accuracy: 0.7859 - val_loss: 0.3861 - val_accuracy: 0.8382\n",
            "Epoch 2/15\n",
            "782/782 [==============================] - 235s 301ms/step - loss: 0.3442 - accuracy: 0.8543 - val_loss: 0.3386 - val_accuracy: 0.8533\n",
            "Epoch 3/15\n",
            "782/782 [==============================] - 232s 296ms/step - loss: 0.3039 - accuracy: 0.8727 - val_loss: 0.3776 - val_accuracy: 0.8544\n",
            "Epoch 4/15\n",
            "782/782 [==============================] - 233s 297ms/step - loss: 0.2683 - accuracy: 0.8915 - val_loss: 0.3295 - val_accuracy: 0.8536\n",
            "Epoch 5/15\n",
            "782/782 [==============================] - 231s 295ms/step - loss: 0.2458 - accuracy: 0.9000 - val_loss: 0.3502 - val_accuracy: 0.8675\n",
            "Epoch 6/15\n",
            "782/782 [==============================] - 231s 296ms/step - loss: 0.2205 - accuracy: 0.9121 - val_loss: 0.3285 - val_accuracy: 0.8630\n",
            "Epoch 7/15\n",
            "782/782 [==============================] - 232s 297ms/step - loss: 0.2020 - accuracy: 0.9203 - val_loss: 0.3512 - val_accuracy: 0.8644\n",
            "Epoch 8/15\n",
            "782/782 [==============================] - 231s 296ms/step - loss: 0.1835 - accuracy: 0.9284 - val_loss: 0.3889 - val_accuracy: 0.8521\n",
            "Epoch 9/15\n",
            "782/782 [==============================] - 232s 296ms/step - loss: 0.1641 - accuracy: 0.9379 - val_loss: 0.3870 - val_accuracy: 0.8686\n",
            "Epoch 10/15\n",
            "782/782 [==============================] - 247s 315ms/step - loss: 0.1507 - accuracy: 0.9427 - val_loss: 0.4218 - val_accuracy: 0.8624\n",
            "Epoch 11/15\n",
            "782/782 [==============================] - 231s 295ms/step - loss: 0.1331 - accuracy: 0.9502 - val_loss: 0.4206 - val_accuracy: 0.8567\n",
            "Epoch 12/15\n",
            "782/782 [==============================] - 247s 316ms/step - loss: 0.1205 - accuracy: 0.9562 - val_loss: 0.4575 - val_accuracy: 0.8555\n",
            "Epoch 13/15\n",
            "782/782 [==============================] - 232s 296ms/step - loss: 0.1068 - accuracy: 0.9619 - val_loss: 0.4965 - val_accuracy: 0.8574\n",
            "Epoch 14/15\n",
            "782/782 [==============================] - 231s 295ms/step - loss: 0.1091 - accuracy: 0.9605 - val_loss: 0.4812 - val_accuracy: 0.8606\n",
            "Epoch 15/15\n",
            "782/782 [==============================] - 233s 297ms/step - loss: 0.0939 - accuracy: 0.9663 - val_loss: 0.5875 - val_accuracy: 0.8510\n"
          ]
        },
        {
          "output_type": "execute_result",
          "data": {
            "text/plain": [
              "<keras.src.callbacks.History at 0x7e06fedff0d0>"
            ]
          },
          "metadata": {},
          "execution_count": 7
        }
      ]
    },
    {
      "cell_type": "code",
      "source": [
        "score, acc = model.evaluate(x_test, y_test, batch_size=32)\n",
        "print('Test score:', score)\n",
        "print('Test accuracy:', acc)\n"
      ],
      "metadata": {
        "id": "JL67ap4b3UNt",
        "colab": {
          "base_uri": "https://localhost:8080/"
        },
        "outputId": "7002a46b-ebf5-4fdc-c404-8bb14c887f4c"
      },
      "execution_count": 8,
      "outputs": [
        {
          "output_type": "stream",
          "name": "stdout",
          "text": [
            "782/782 [==============================] - 32s 41ms/step - loss: 0.5875 - accuracy: 0.8510\n",
            "Test score: 0.5875385403633118\n",
            "Test accuracy: 0.8509600162506104\n"
          ]
        }
      ]
    },
    {
      "cell_type": "code",
      "source": [],
      "metadata": {
        "id": "ejfwBXi7IoL9"
      },
      "execution_count": null,
      "outputs": []
    }
  ]
}